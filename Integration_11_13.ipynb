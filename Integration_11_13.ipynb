{
  "nbformat": 4,
  "nbformat_minor": 0,
  "metadata": {
    "colab": {
      "provenance": [],
      "authorship_tag": "ABX9TyM6L6OcOdmeG8Q9R4emZxBc",
      "include_colab_link": true
    },
    "kernelspec": {
      "name": "python3",
      "display_name": "Python 3"
    },
    "language_info": {
      "name": "python"
    }
  },
  "cells": [
    {
      "cell_type": "markdown",
      "metadata": {
        "id": "view-in-github",
        "colab_type": "text"
      },
      "source": [
        "<a href=\"https://colab.research.google.com/github/wwefddd/Numerical-Analysis-Chebyshev/blob/main/Numerical_Analysis_Integration_Trapezoid_Simpson_11_13.ipynb\" target=\"_parent\"><img src=\"https://colab.research.google.com/assets/colab-badge.svg\" alt=\"Open In Colab\"/></a>"
      ]
    },
    {
      "cell_type": "code",
      "execution_count": null,
      "metadata": {
        "colab": {
          "base_uri": "https://localhost:8080/"
        },
        "id": "-8GGgCoFRHPN",
        "outputId": "05523a14-cb4d-4a90-a83a-6e2e16cf9515"
      },
      "outputs": [
        {
          "output_type": "stream",
          "name": "stdout",
          "text": [
            "Approximation of f(x) =  0.7468203905416176\n",
            "Error of f(x) =  3.7422708093481916e-06\n"
          ]
        }
      ],
      "source": [
        "import numpy as np\n",
        "import matplotlib.pyplot as plt # 이거 지금 필요없긴 함\n",
        "\n",
        "n = 128 # number of intervals\n",
        "a, b = 0,1\n",
        "h = (b-a)/n\n",
        "x = np.linspace(a, b, n+1)\n",
        "\n",
        "Tnf = 0 # int f(x) dx (integrate)\n",
        "#Approximate int e^2{-x^2} dx\n",
        "for i in range(0, n):\n",
        "  Tnf = Tnf + h * (np.exp(-x[i] ** 2) + np.exp( -x[i+1]**2)) / 2\n",
        "\n",
        "print('Approximation of f(x) = ', Tnf)\n",
        "print('Maximum error of f(x) = ', np.abs(0.746824132812427 - Tnf))"
      ]
    },
    {
      "cell_type": "code",
      "source": [
        "import numpy as np\n",
        "import matplotlib.pyplot as plt\n",
        "\n",
        "n = 128 # number of intervals\n",
        "a, b = 0, 2*np.pi\n",
        "h = (b-a)/n\n",
        "x = np.linspace(a, b, n+1)\n",
        "\n",
        "Tnf = 0 # int f(x) dx (integrate)\n",
        "#Approximate int 1/(2+cos(x)) dx\n",
        "for i in range(0, n):\n",
        "  Tnf = Tnf + h * (1/(2 + np.cos(x[i]))  + 1/(2 + np.cos(x[i+1])) ) / 2\n",
        "\n",
        "print('Approximation of f(x) = ', Tnf)\n",
        "print('Maximum error of f(x) = ', np.abs(2*np.pi/np.sqrt(3) - Tnf))"
      ],
      "metadata": {
        "colab": {
          "base_uri": "https://localhost:8080/"
        },
        "id": "xUTdTqOxS64S",
        "outputId": "49181548-da3b-408c-eeef-ff6775b53d90"
      },
      "execution_count": null,
      "outputs": [
        {
          "output_type": "stream",
          "name": "stdout",
          "text": [
            "Approximation of f(x) =  3.6275987284684343\n",
            "Error of f(x) =  1.3322676295501878e-15\n"
          ]
        }
      ]
    },
    {
      "cell_type": "code",
      "source": [
        "import numpy as np\n",
        "import matplotlib.pyplot as plt\n",
        "\n",
        "n = 1024 # number of intervals\n",
        "a, b = 0, 4\n",
        "h = (b-a)/n\n",
        "x = np.linspace(a, b, n+1)\n",
        "\n",
        "Tnf = 0 # int f(x) dx (integrate)\n",
        "#Approximate int 1/(1+x^2) dx\n",
        "for i in range(0, n):\n",
        "  Tnf = Tnf + h * (1/(1 +x[i]**2) + 1/(1 +x[i+1]**2) ) / 2\n",
        "\n",
        "print('Approximation of f(x) = ', Tnf)\n",
        "print('Maximum error of f(x) = ', np.abs(np.arctan(4) - Tnf))"
      ],
      "metadata": {
        "colab": {
          "base_uri": "https://localhost:8080/"
        },
        "id": "27qTFWoNTlCH",
        "outputId": "903571a0-5e96-493a-a0a4-97adaad058a3"
      },
      "execution_count": null,
      "outputs": [
        {
          "output_type": "stream",
          "name": "stdout",
          "text": [
            "Approximation of f(x) =  1.3258176284689844\n",
            "Error of f(x) =  3.519904812065988e-08\n"
          ]
        }
      ]
    },
    {
      "cell_type": "markdown",
      "source": [],
      "metadata": {
        "id": "WZTGs3ZXXeiH"
      }
    },
    {
      "cell_type": "markdown",
      "source": [],
      "metadata": {
        "id": "7KIb1--PXi4w"
      }
    },
    {
      "cell_type": "markdown",
      "source": [
        "Simpson's rule"
      ],
      "metadata": {
        "id": "qXVT7oHUXUtY"
      }
    },
    {
      "cell_type": "code",
      "source": [
        "import numpy as np\n",
        "import matplotlib.pyplot as plt\n",
        "\n",
        "n = 32 # number of intervals\n",
        "a, b = 0, 1\n",
        "h = (b-a)/n\n",
        "x = np.linspace(a, b, n+1)\n",
        "\n",
        "Snf = 0 # int f(x) dx\n",
        "#Approximate int e^2{-x^2} dx\n",
        "for i in range(0, n-1, 2):\n",
        "  Snf = Snf + h/3 * (np.exp(-x[i] ** 2) + 4*np.exp(-x[i+1] ** 2) + np.exp( -x[i+2]**2))\n",
        "\n",
        "print('Approximation of f(x) = ', Snf)\n",
        "print('Maximum error of f(x) = ', np.abs(0.746824132812427 - Snf))"
      ],
      "metadata": {
        "id": "IOhG53N9XUVY"
      },
      "execution_count": null,
      "outputs": []
    },
    {
      "cell_type": "code",
      "source": [],
      "metadata": {
        "id": "P-AsuI7IYue6"
      },
      "execution_count": null,
      "outputs": []
    }
  ]
}
