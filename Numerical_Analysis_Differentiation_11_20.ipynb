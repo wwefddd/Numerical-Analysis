{
  "nbformat": 4,
  "nbformat_minor": 0,
  "metadata": {
    "colab": {
      "provenance": [],
      "authorship_tag": "ABX9TyN6fR+Ao7KBubMy3vIon8KD",
      "include_colab_link": true
    },
    "kernelspec": {
      "name": "python3",
      "display_name": "Python 3"
    },
    "language_info": {
      "name": "python"
    }
  },
  "cells": [
    {
      "cell_type": "markdown",
      "metadata": {
        "id": "view-in-github",
        "colab_type": "text"
      },
      "source": [
        "<a href=\"https://colab.research.google.com/github/wwefddd/Numerical-Analysis/blob/main/Numerical_Analysis_Differentiation_11_20.ipynb\" target=\"_parent\"><img src=\"https://colab.research.google.com/assets/colab-badge.svg\" alt=\"Open In Colab\"/></a>"
      ]
    },
    {
      "cell_type": "markdown",
      "source": [
        "Approximate 1st derivatives"
      ],
      "metadata": {
        "id": "pHJw0S4Rp2-1"
      }
    },
    {
      "cell_type": "code",
      "execution_count": null,
      "metadata": {
        "colab": {
          "base_uri": "https://localhost:8080/"
        },
        "id": "1ZKVnvNGdO5v",
        "outputId": "7828ef19-b4f8-4c9e-e565-803fe8f82617"
      },
      "outputs": [
        {
          "output_type": "stream",
          "name": "stdout",
          "text": [
            "Exact value of (cosx)' =  -0.49999999999999994\n",
            "Approximate value by D_h^+ cos(x) =  -0.5424322810575211\n",
            "Error of D_h^+ cos(x) =  0.042432281057521115\n",
            "Approximate value by D_h^- cos(x) =  -0.45590188541075993\n",
            "Error of D_h^- cos(x) =  0.04409811458924001\n",
            "Approximate value by D_h^0 cos(x) =  -0.4991670832341405\n",
            "Error of D_h^0 cos(x) =  0.0008329167658594483\n",
            "Error ratio Dpf/Dmf =  0.9622243819892163\n",
            "Error ratio D0f/Dpf=  0.01962931864846832\n",
            "Error ratio D0f/Dmf=  0.018887809005391828\n"
          ]
        }
      ],
      "source": [
        "import numpy as np\n",
        "import matplotlib.pyplot as plt\n",
        "#Approximate f'(x), where f(x) = cos(x) and x = pi/6\n",
        "\n",
        "h = 0.1 # small positive value\n",
        "x = np.pi/6\n",
        "dfdx = -np.sin(x)\n",
        "\n",
        "#Compute D_h^+ f(x)\n",
        "Dpf = (np.cos(x+h) - np.cos(x) ) / h\n",
        "\n",
        "#Compute D_h-+ f(x)\n",
        "Dmf = (np.cos(x) - np.cos(x-h) ) / h\n",
        "\n",
        "#Compute D_h0+ f(x)\n",
        "D0f = (np.cos(x+h) - np.cos(x-h) ) / (2*h)\n",
        "\n",
        "print('Exact value of (cosx)\\' = ', dfdx)\n",
        "print('Approximate value by D_h^+ cos(x) = ', Dpf)\n",
        "print('Error of D_h^+ cos(x) = ', np.abs(dfdx - Dpf))\n",
        "print('Approximate value by D_h^- cos(x) = ', Dmf)\n",
        "print('Error of D_h^- cos(x) = ', np.abs(dfdx - Dmf))\n",
        "print('Approximate value by D_h^0 cos(x) = ', D0f)\n",
        "print('Error of D_h^0 cos(x) = ', np.abs(dfdx - D0f))\n",
        "\n",
        "print('Error ratio Dpf/Dmf = ', np.abs(dfdx - Dpf)/np.abs(dfdx - Dmf))\n",
        "print('Error ratio D0f/Dpf= ',np.abs(dfdx - D0f)/np.abs(dfdx - Dpf))\n",
        "print('Error ratio D0f/Dmf= ', np.abs(dfdx - D0f)/np.abs(dfdx - Dmf))"
      ]
    },
    {
      "cell_type": "markdown",
      "source": [
        "Approximate 2nd derivative by central difference"
      ],
      "metadata": {
        "id": "8xvY18ujqCgT"
      }
    },
    {
      "cell_type": "code",
      "source": [
        "import numpy as np\n",
        "import matplotlib.pyplot as plt\n",
        "#Approximate f''(x), where f(x) = cos(x) and x = pi/6\n",
        "\n",
        "h = 0.5 # small positive value\n",
        "x = np.pi/6\n",
        "d2fdx = -np.cos(x)\n",
        "\n",
        "# Compute D_h^2 f(x) by central difference formula\n",
        "D2f = (np.cos(x+h) - 2*np.cos(x) + np.cos(x-h) ) / (h**2)\n",
        "\n",
        "print('Exact value of (cos(x))\\'\\' = ', d2fdx)\n",
        "print('Approximate value by D_h^2 cos(x) = ', D2f)\n",
        "print('Error of D_h^2 cos(x) = ', np.abs(d2fdx - D2f) )"
      ],
      "metadata": {
        "colab": {
          "base_uri": "https://localhost:8080/"
        },
        "id": "JnRlBfqZqB_F",
        "outputId": "53084f45-cc6e-4ec8-889e-36fc8cd47093"
      },
      "execution_count": null,
      "outputs": [
        {
          "output_type": "stream",
          "name": "stdout",
          "text": [
            "Exact value of (cos(x))'' =  -0.8660254037844387\n",
            "Approximate value by D_h^2 cos(x) =  -0.8481328901531717\n",
            "Error of D_h^2 cos(x) =  0.017892513631266982\n"
          ]
        }
      ]
    }
  ]
}