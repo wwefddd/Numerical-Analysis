{
  "nbformat": 4,
  "nbformat_minor": 0,
  "metadata": {
    "colab": {
      "private_outputs": true,
      "provenance": [],
      "authorship_tag": "ABX9TyP5bWEmGFoc1dYRybFxY53a",
      "include_colab_link": true
    },
    "kernelspec": {
      "name": "python3",
      "display_name": "Python 3"
    },
    "language_info": {
      "name": "python"
    }
  },
  "cells": [
    {
      "cell_type": "markdown",
      "metadata": {
        "id": "view-in-github",
        "colab_type": "text"
      },
      "source": [
        "<a href=\"https://colab.research.google.com/github/wwefddd/Numerical-Analysis/blob/main/Numerical_Analysis_ODE_12_04.ipynb\" target=\"_parent\"><img src=\"https://colab.research.google.com/assets/colab-badge.svg\" alt=\"Open In Colab\"/></a>"
      ]
    },
    {
      "cell_type": "markdown",
      "source": [
        "Forward Euler Method (PDF에 있는 주석 참고)"
      ],
      "metadata": {
        "id": "HSJ8MtUWf7TW"
      }
    },
    {
      "cell_type": "code",
      "execution_count": null,
      "metadata": {
        "id": "oR24YbPOWsPS"
      },
      "outputs": [],
      "source": [
        "import numpy as np\n",
        "import matplotlib.pyplot as plt\n",
        "\n",
        "M = 1000\n",
        "dt = 1/100\n",
        "T = dt*M\n",
        "t = np.linspace(0, T, M+1)\n",
        "y = np.zeros(M+1)\n",
        "\n",
        "#Initial condition\n",
        "y[0] = 1\n",
        "\n",
        "#Exact solution\n",
        "ye = np.exp(-t)\n",
        "\n",
        "#Compute the numerical solution 'u'\n",
        "for i in range(0, M):\n",
        "    y[i+1] = y[i] + dt*(-y[i]) # y_n+1 과 y_n 사이의 점화식은 직접 손으로 계산해야한다.\n",
        "\n",
        "#Compute the error\n",
        "err = np.abs(y - ye)\n",
        "\n",
        "plt.figure()\n",
        "plt.plot(t,y)\n",
        "plt.xlabel('t')\n",
        "plt.ylabel('y')\n",
        "\n",
        "plt.figure()\n",
        "plt.plot(t,ye)\n",
        "plt.xlabel('t')\n",
        "plt.ylabel('ye')\n",
        "\n",
        "plt.figure()\n",
        "plt.plot(t,err)\n",
        "plt.xlabel('t')\n",
        "plt.ylabel('error')\n",
        "plt.show()"
      ]
    },
    {
      "cell_type": "markdown",
      "source": [
        "Backward Euler Method. 이때 조심해야 할것은 y' 함수가 다르게 주어지면은 y_n+1 과 y_n 사이의 점화식을 다시 계산해야 한다."
      ],
      "metadata": {
        "id": "5sZYj0xHgT3m"
      }
    },
    {
      "cell_type": "code",
      "source": [
        "import numpy as np\n",
        "import matplotlib.pyplot as plt\n",
        "\n",
        "M = 1000\n",
        "dt = 1/100\n",
        "T = dt*M\n",
        "t = np.linspace(0, T, M+1)\n",
        "y = np.zeros(M+1)\n",
        "\n",
        "y[0] = 1 # 여기 부분 수정\n",
        "\n",
        "ye = np.exp(-t) # 여기 부분 수정\n",
        "\n",
        "for i in range(0, M):\n",
        "    y[i+1] = y[i] / (1 + dt) # 여기 부분 수정 (교재 참고!!!!!!!!!!!!!!!!!!!!!!!!!!!!!!!!!!!!!!!!!!!!!!!!!!!!!!1)\n",
        "\n",
        "err = np.abs(y - ye)\n",
        "\n",
        "plt.figure()\n",
        "plt.plot(t,y)\n",
        "plt.xlabel('t')\n",
        "plt.ylabel('y')\n",
        "\n",
        "plt.figure()\n",
        "plt.plot(t,ye)\n",
        "plt.xlabel('t')\n",
        "plt.ylabel('ye')\n",
        "\n",
        "plt.figure()\n",
        "plt.plot(t,err)\n",
        "plt.xlabel('t')\n",
        "plt.ylabel('error')\n",
        "plt.show()"
      ],
      "metadata": {
        "id": "RjIM2z-AWwwA"
      },
      "execution_count": null,
      "outputs": []
    },
    {
      "cell_type": "markdown",
      "source": [
        "Trapezoidal rule"
      ],
      "metadata": {
        "id": "k-AoVl2Kg8EO"
      }
    },
    {
      "cell_type": "code",
      "source": [
        "import numpy as np\n",
        "import matplotlib.pyplot as plt\n",
        "\n",
        "M = 1000\n",
        "dt = 1/100\n",
        "T = dt*M\n",
        "t = np.linspace(0, T, M+1)\n",
        "y = np.zeros(M+1)\n",
        "\n",
        "y[0] = 1\n",
        "\n",
        "ye = np.exp(-t)\n",
        "\n",
        "for i in range(0, M):\n",
        "    y[i+1] = y[i] * ( 1 - dt/2 ) / (1 + dt/2) # 점화식\n",
        "\n",
        "err = np.abs(y - ye)\n",
        "\n",
        "plt.figure()\n",
        "plt.plot(t,y)\n",
        "plt.xlabel('t')\n",
        "plt.ylabel('y')\n",
        "\n",
        "plt.figure()\n",
        "plt.plot(t,ye)\n",
        "plt.xlabel('t')\n",
        "plt.ylabel('ye')\n",
        "\n",
        "plt.figure()\n",
        "plt.plot(t,err)\n",
        "plt.xlabel('t')\n",
        "plt.ylabel('error')\n",
        "plt.show()"
      ],
      "metadata": {
        "id": "bSWA9102aU7y"
      },
      "execution_count": null,
      "outputs": []
    },
    {
      "cell_type": "markdown",
      "source": [
        "Heun's method (RK2)"
      ],
      "metadata": {
        "id": "TBErALctg-Cl"
      }
    },
    {
      "cell_type": "code",
      "source": [
        "import numpy as np\n",
        "import matplotlib.pyplot as plt\n",
        "\n",
        "M = 1000\n",
        "dt = 1/100\n",
        "T = dt*M\n",
        "t = np.linspace(0, T, M+1)\n",
        "y = np.zeros(M+1)\n",
        "\n",
        "y[0] = 1\n",
        "\n",
        "ye = np.exp(-t)\n",
        "\n",
        "for i in range(0, M):\n",
        "    temp = y[i] + dt * (-y[i])\n",
        "    y[i+1] = y[i] + dt/2 * (-y[i] - temp)\n",
        "\n",
        "\n",
        "\n",
        "err = np.abs(y - ye)\n",
        "\n",
        "plt.figure()\n",
        "plt.plot(t,y)\n",
        "plt.xlabel('t')\n",
        "plt.ylabel('y')\n",
        "\n",
        "plt.figure()\n",
        "plt.plot(t,ye)\n",
        "plt.xlabel('t')\n",
        "plt.ylabel('ye')\n",
        "\n",
        "plt.figure()\n",
        "plt.plot(t,err)\n",
        "plt.xlabel('t')\n",
        "plt.ylabel('error')\n",
        "plt.show()"
      ],
      "metadata": {
        "id": "QAdMJHMAayux"
      },
      "execution_count": null,
      "outputs": []
    },
    {
      "cell_type": "markdown",
      "source": [
        "multistep method (AB2)\n",
        "이거 처음에는 forward euler method 한번 돌리고 그 다음에 점화식 사용. 자세한건 교재와 코드 pdf 주석 참고"
      ],
      "metadata": {
        "id": "cfmRGb-BhOkN"
      }
    },
    {
      "cell_type": "code",
      "source": [
        "import numpy as np\n",
        "import matplotlib.pyplot as plt\n",
        "\n",
        "M = 1000\n",
        "dt = 1/100\n",
        "T = dt*M\n",
        "t = np.linspace(0, T, M+1)\n",
        "y = np.zeros(M+1)\n",
        "\n",
        "y[0] = 1\n",
        "\n",
        "ye = np.exp(-t)\n",
        "\n",
        "y[1] = y[0] + dt * (-y[0])\n",
        "\n",
        "for i in range(1, M):\n",
        "    y[i+1] = y[i] + dt/2 * (-3*y[i] + y[i-1])\n",
        "\n",
        "\n",
        "\n",
        "err = np.abs(y - ye)\n",
        "\n",
        "plt.figure()\n",
        "plt.plot(t,y)\n",
        "plt.xlabel('t')\n",
        "plt.ylabel('y')\n",
        "\n",
        "plt.figure()\n",
        "plt.plot(t,ye)\n",
        "plt.xlabel('t')\n",
        "plt.ylabel('ye')\n",
        "\n",
        "plt.figure()\n",
        "plt.plot(t,err)\n",
        "plt.xlabel('t')\n",
        "plt.ylabel('error')\n",
        "plt.show()"
      ],
      "metadata": {
        "id": "tUGkGGVSbKSY"
      },
      "execution_count": null,
      "outputs": []
    }
  ]
}