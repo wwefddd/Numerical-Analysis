{
  "nbformat": 4,
  "nbformat_minor": 0,
  "metadata": {
    "colab": {
      "provenance": [],
      "authorship_tag": "ABX9TyNJRp+luporVir3vlrnrNnk",
      "include_colab_link": true
    },
    "kernelspec": {
      "name": "python3",
      "display_name": "Python 3"
    },
    "language_info": {
      "name": "python"
    }
  },
  "cells": [
    {
      "cell_type": "markdown",
      "metadata": {
        "id": "view-in-github",
        "colab_type": "text"
      },
      "source": [
        "<a href=\"https://colab.research.google.com/github/wwefddd/Numerical-Analysis-Chebyshev/blob/main/Numerical_Analysis_Error_Simpson_11_18.ipynb\" target=\"_parent\"><img src=\"https://colab.research.google.com/assets/colab-badge.svg\" alt=\"Open In Colab\"/></a>"
      ]
    },
    {
      "cell_type": "markdown",
      "source": [
        "1. By using Simpson's rule, compute int 1/1+x^2 dx\n",
        "and compute the error ratio between n = 16 and n = 32"
      ],
      "metadata": {
        "id": "zyD51JUMcB0z"
      }
    },
    {
      "cell_type": "code",
      "execution_count": null,
      "metadata": {
        "colab": {
          "base_uri": "https://localhost:8080/"
        },
        "id": "m9W8XvsaXrHK",
        "outputId": "ccd2c9ab-0126-4535-82ac-e9542a993f3d"
      },
      "outputs": [
        {
          "output_type": "stream",
          "name": "stdout",
          "text": [
            "Approximation of f(x) (n = 64) =  1.3258176622074376\n",
            "Maximum error of f(x) (n = 64) =  1.4605925358068816e-09\n",
            "Approximation of f(x) (n = 32) =  1.325817640331539\n",
            "Maximum error of f(x) (n = 32) =  2.333649118391179e-08\n",
            "error ratio = 15.97741369465503\n"
          ]
        }
      ],
      "source": [
        "import numpy as np\n",
        "import matplotlib.pyplot as plt\n",
        "\n",
        "n = 64 # number of intervals\n",
        "a, b = 0, 4\n",
        "h = (b-a)/n\n",
        "x = np.linspace(a, b, n+1)\n",
        "\n",
        "\n",
        "Snf = 0 # int f(x) dx\n",
        "#Approximate int 1/(1+x^2) dx\n",
        "for i in range(0, n-1, 2):\n",
        "  Snf = Snf + h/3 * ((1 / ( 1 + x[i]**2)) + 4*(1 / ( 1 + x[i+1]**2)) + (1 / ( 1 + x[i+2]**2)))\n",
        "\n",
        "error1 = np.abs(1.32581766366803 - Snf)\n",
        "\n",
        "print('Approximation of f(x) (n = 64) = ', Snf)\n",
        "print('Maximum error of f(x) (n = 64) = ', np.abs(1.32581766366803 - Snf))\n",
        "\n",
        "n = int(n / 2) # number of intervals\n",
        "a, b = 0, 4\n",
        "h = (b-a)/n\n",
        "x = np.linspace(a, b, n+1)\n",
        "\n",
        "\n",
        "Snf = 0 # int f(x) dx\n",
        "#Approximate int 1/(1+x^2) dx\n",
        "for i in range(0, n-1, 2):\n",
        "  Snf = Snf + h/3 * ((1 / ( 1 + x[i]**2)) + 4*(1 / ( 1 + x[i+1]**2)) + (1 / ( 1 + x[i+2]**2)))\n",
        "\n",
        "error2 =  np.abs(1.32581766366803 - Snf)\n",
        "\n",
        "print('Approximation of f(x) (n = 32) = ', Snf)\n",
        "print('Maximum error of f(x) (n = 32) = ', np.abs(1.32581766366803 - Snf))\n",
        "\n",
        "print('error ratio =', error2 / error1)"
      ]
    },
    {
      "cell_type": "markdown",
      "source": [
        "2. By using Simpson's rule, compute int 1/2 + cos(x) dx\n",
        "and compute the error ratio between n = 16 and n = 32"
      ],
      "metadata": {
        "id": "h-_t1bI2cQm4"
      }
    },
    {
      "cell_type": "code",
      "source": [
        "import numpy as np\n",
        "import matplotlib.pyplot as plt\n",
        "\n",
        "n = 4 # number of intervals\n",
        "a, b = 0, 2*np.pi\n",
        "h = (b-a)/n\n",
        "x = np.linspace(a, b, n+1)\n",
        "\n",
        "\n",
        "\n",
        "Snf = 0 # int f(x) dx\n",
        "#Approximate int 1/(2+cos(x)) dx\n",
        "for i in range(0, n-1, 2):\n",
        "  Snf = Snf + h/3 * ((1 / ( 2 + np.cos(x[i]))) + 4*(1 / ( 2 + np.cos(x[i+1]))) + (1 / ( 2 + np.cos(x[i+2]))))\n",
        "\n",
        "error1 = np.abs(3.62759872846844 - Snf)\n",
        "\n",
        "print(f'Approximation of f(x) (n = 4) = ', Snf)\n",
        "print('Maximum error of f(x) (n = 4) = ', np.abs(3.62759872846844 - Snf))\n",
        "\n",
        "n = 2*n # number of intervals\n",
        "a, b = 0, 2*np.pi\n",
        "h = (b-a)/n\n",
        "x = np.linspace(a, b, n+1)\n",
        "\n",
        "\n",
        "\n",
        "Snf = 0 # int f(x) dx\n",
        "#Approximate int 1/(2+cos(x)) dx\n",
        "for i in range(0, n-1, 2):\n",
        "  Snf = Snf + h/3 * ((1 / ( 2 + np.cos(x[i]))) + 4*(1 / ( 2 + np.cos(x[i+1]))) + (1 / ( 2 + np.cos(x[i+2]))))\n",
        "\n",
        "error2 = np.abs(3.62759872846844 - Snf)\n",
        "\n",
        "print('Approximation of f(x) (n = 8) = ', Snf)\n",
        "print('Maximum error of f(x) (n = 8) = ', np.abs(3.62759872846844 - Snf))\n",
        "\n",
        "print('error ratio =', error1 / error2)"
      ],
      "metadata": {
        "colab": {
          "base_uri": "https://localhost:8080/"
        },
        "id": "UeLOXPITZLqn",
        "outputId": "79576ae7-78f0-4211-9b7f-51a98f2e7b41"
      },
      "execution_count": null,
      "outputs": [
        {
          "output_type": "stream",
          "name": "stdout",
          "text": [
            "Approximation of f(x) (n = 4) =  3.4906585039886595\n",
            "Maximum error of f(x) (n = 4) =  0.1369402244797806\n",
            "Approximation of f(x) (n = 8) =  3.615324879131111\n",
            "Maximum error of f(x) (n = 8) =  0.012273849337329334\n",
            "error ratio = 11.157072301946425\n"
          ]
        }
      ]
    }
  ]
}